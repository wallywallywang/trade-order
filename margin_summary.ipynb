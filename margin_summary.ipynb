{
 "cells": [
  {
   "cell_type": "code",
   "execution_count": 1,
   "id": "6f3dc05c",
   "metadata": {
    "jupyter": {
     "source_hidden": true
    }
   },
   "outputs": [],
   "source": [
    "import pandas as pd\n",
    "import csv\n",
    "from datetime import datetime\n",
    "from pandas.tseries.offsets import BDay\n",
    "from openpyxl import load_workbook, Workbook\n",
    "import math\n",
    "import os\n",
    "import shutil\n",
    "import numpy as np\n",
    "import pdfplumber"
   ]
  },
  {
   "cell_type": "code",
   "execution_count": null,
   "id": "f36cf8d3-f293-4c9f-88a1-17f27bb8e7b0",
   "metadata": {},
   "outputs": [],
   "source": [
    "folder_name = 'past'\n",
    "os.makedirs(folder_name, exist_ok=True)\n",
    "files = os.listdir()\n",
    "for file in files:\n",
    "    if 'xlsx' in file or 'xls' in file or 'csv' in file or 'pdf' in file:\n",
    "        shutil.move(file, os.path.join(folder_name, file))  "
   ]
  },
  {
   "cell_type": "code",
   "execution_count": 2,
   "id": "eca520c6",
   "metadata": {},
   "outputs": [],
   "source": [
    "pd.set_option('display.max_rows',200)"
   ]
  },
  {
   "cell_type": "code",
   "execution_count": 3,
   "id": "4666d8a8",
   "metadata": {},
   "outputs": [],
   "source": [
    "currentFolder = os.getcwd()\n",
    "sourceFolder=r\"C:\\Users\\Ning\\Seahawk China Dynamic Fund\\Seahawk Operations - Documents\\portfolio\""
   ]
  },
  {
   "cell_type": "code",
   "execution_count": 4,
   "id": "56169dd2",
   "metadata": {
    "jupyter": {
     "source_hidden": true
    }
   },
   "outputs": [],
   "source": [
    "class Broker(object):\n",
    "    \n",
    "    def __init__(self, folder, mfile,*vfile):\n",
    "        self.name=self.__class__.__name__\n",
    "        self.folder=sourceFolder+\"\\\\\"+folder\n",
    "        \n",
    "        if folder!=\"GF\":\n",
    "            self.mfiles=[file for file in os.listdir(self.folder) if mfile in file]\n",
    "        else:\n",
    "            self.mfiles=[file for file in os.listdir(self.folder) if mfile in file and 'Trade' not in file]      \n",
    "        self.mPath=self.mfiles[-1]\n",
    "        self.mSourcePath=os.path.join(self.folder,self.mPath)\n",
    "        self.mDestinationPath=os.path.join(currentFolder,self.mPath)\n",
    "        shutil.copy(self.mSourcePath,self.mDestinationPath)\n",
    "        \n",
    "        if len(vfile)>0:\n",
    "            self.vfiles=[file for file in os.listdir(self.folder) if vfile[0] in file]\n",
    "            self.vPath=self.vfiles[-1]\n",
    "        else:\n",
    "            self.vPath=self.mPath\n",
    "        self.vSourcePath=os.path.join(self.folder,self.vPath)\n",
    "        self.vDestinationPath=os.path.join(currentFolder,self.vPath)\n",
    "        shutil.copy(self.vSourcePath,self.vDestinationPath)\n",
    "    \n",
    "    def get_margin(self):\n",
    "        self.margin=pd.DataFrame(columns=['symbol','margin'])\n",
    "        return self.margin\n",
    "    \n",
    "    def margin_summary(self,df):\n",
    "        margin=df.groupby('symbol').agg({'margin':'mean'}).reset_index()        \n",
    "        margin['margin']=margin['margin'].map(lambda x: '{:.1%}'.format(x))\n",
    "        marginColumn=self.name+'_margin'\n",
    "        margin.columns=['symbol',marginColumn]  \n",
    "        return margin\n",
    "    \n",
    "    def get_financing(self):\n",
    "        self.financing=pd.DataFrame(columns=['symbol','broker','benchmark','spread'])\n",
    "        return self.financing\n",
    "    \n",
    "    def financing_summary(self, df):\n",
    "        financingSummary=df.groupby('symbol').agg({'benchmark':'last','spread':'last'}).reset_index()        \n",
    "        financingSummary['spread']=financingSummary['spread'].map(lambda x: '{:.1%}'.format(x))\n",
    "        benchmarkColumn=self.name+'_benchmark'\n",
    "        spreadColumn=self.name+'_spread'\n",
    "        financingSummary.columns=['symbol',benchmarkColumn,spreadColumn]  \n",
    "        return financingSummary        \n",
    "    "
   ]
  },
  {
   "cell_type": "code",
   "execution_count": 5,
   "id": "55ce3137",
   "metadata": {
    "jupyter": {
     "source_hidden": true
    }
   },
   "outputs": [],
   "source": [
    "class Macq(Broker):\n",
    "    \n",
    "    def get_margin(self):\n",
    "        df=pd.read_excel(self.mPath, sheet_name='ps-position-report',skiprows=10)\n",
    "        df=df[df[\"Ticker\"].notna()]\n",
    "        df=df.loc[:,['Ticker','Initial Margin %']]\n",
    "        df.columns=['symbol','margin']\n",
    "        df['symbol']=df['symbol'].map(lambda x: x.replace(\".\",\" \").replace(\" OQ\",\" US\").replace(\" N\",\" US\").replace('SH','C1').replace('TWO','TT').replace('TW','TT').lstrip(\"0\"))\n",
    "        df['margin']=df['margin']/100\n",
    "\n",
    "        self.margin=self.margin_summary(df)\n",
    "        return self.margin\n",
    "    \n",
    "    def get_financing(self):\n",
    "        df=pd.read_excel(self.vPath, sheet_name='ps-position-report',skiprows=10)\n",
    "        df=df[df[\"Ticker\"].notna()]\n",
    "        df=df.loc[:,['Ticker','Swap Ccy','Average Spread %','Qty']]\n",
    "        df.columns=['symbol','benchmark','spread','qty']\n",
    "        df['symbol']=df['symbol'].map(lambda x: x.replace(\".\",\" \").replace(\" OQ\",\" US\").replace(\" N\",\" US\").replace('SH','C1').replace('TWO','TT').replace('TW','TT').lstrip(\"0\"))\n",
    "        df['benchmark']=df['benchmark'].map({'HKD':'HIBOR1M','USD':'SOFRON'})\n",
    "        df['broker']=self.name\n",
    "        self.financing=df.loc[:,['symbol','broker','benchmark','spread','qty']]\n",
    "        return self.financing"
   ]
  },
  {
   "cell_type": "code",
   "execution_count": 6,
   "id": "7efffa8a",
   "metadata": {
    "jupyter": {
     "source_hidden": true
    }
   },
   "outputs": [],
   "source": [
    "class Clsa(Broker):\n",
    "    \n",
    "    def get_margin(self):\n",
    "        df=pd.read_excel(self.mPath, sheet_name='Position Margin',skiprows=4)\n",
    "        df=df.loc[:,['Underlying Security Name','Independent Amount %']]\n",
    "        df.columns=['symbol','margin']\n",
    "        \n",
    "        self.margin=self.margin_summary(df)\n",
    "        return self.margin\n",
    "    \n",
    "    def get_financing(self):\n",
    "        df=pd.read_excel(self.vPath, sheet_name='Position valuation report',skiprows=4)\n",
    "        df=df.loc[:,['Underlying Security Name','Rate Index','Spread','Quantity / Exchange-traded Contract']]\n",
    "        df.columns=['symbol','benchmark','spread','qty']\n",
    "        df['spread']=df['spread']*df['qty'].map(lambda x:np.sign(x))\n",
    "        df['benchmark']=df['benchmark'].map(lambda x: x.replace('USD/SOFR/1D/SOFR','SOFRON').replace('USD/SOFR-REBATE/1D/SOFR','SOFRON').replace('HKD/HIBOR/1M/HKAB','HIBOR1M').replace('HKD/HIBOR-REBATE/1D/HKAB','HIBORON') if isinstance(x,str) else x)\n",
    "        df['broker']=self.name\n",
    "        self.financing=df.loc[:,['symbol','broker','benchmark','spread','qty']]\n",
    "        return self.financing    "
   ]
  },
  {
   "cell_type": "code",
   "execution_count": 7,
   "id": "7b5fdad0",
   "metadata": {
    "jupyter": {
     "source_hidden": true
    }
   },
   "outputs": [],
   "source": [
    "class Cicc(Broker): \n",
    "    \n",
    "    def get_margin(self):\n",
    "        df=pd.read_excel(self.mPath, sheet_name='Valuation',skiprows=11)\n",
    "        df=df[df[\"Bloomberg Code\"].notna()]\n",
    "        df=df.loc[:,['Bloomberg Code','Initial Margin Rate']]\n",
    "        df.columns=['symbol','margin']\n",
    "        df['symbol']=df['symbol'].astype(str).map(lambda x: x.replace(\" Equity\",\"\").replace(\" EQUITY\",\"\"))\n",
    "        df['margin']=df['margin'].map(lambda x: float(x.replace('%',\"\") if isinstance(x,str) else x*100))\n",
    "        df['margin']=df['margin']/100\n",
    "        \n",
    "        self.margin=self.margin_summary(df)\n",
    "        return self.margin\n",
    "    \n",
    "    def get_financing(self):\n",
    "        df=pd.read_excel(self.vPath, sheet_name='Valuation',skiprows=11)\n",
    "        df=df[df[\"Bloomberg Code\"].notna()]\n",
    "        df=df.loc[:,['Bloomberg Code','Benchmark','Financing Spread (bps)','Remaining Qty(Trade Date)']]\n",
    "        df.columns=['symbol','benchmark','spread','qty']\n",
    "        df['symbol']=df['symbol'].astype(str).map(lambda x: x.replace(\" Equity\",\"\").replace(\" EQUITY\",\"\"))\n",
    "        df['spread']=df['spread']*df['qty'].map(lambda x:np.sign(x))\n",
    "        df['spread']=df['spread']/10000\n",
    "        df['benchmark']=df['benchmark'].map(lambda x: x.replace('1MHIBOR','HIBOR1M').replace('FIXED','') if isinstance(x,str) else x)\n",
    "        df['broker']=self.name\n",
    "        self.financing=df.loc[:,['symbol','broker','benchmark','spread','qty']]\n",
    "        return self.financing"
   ]
  },
  {
   "cell_type": "code",
   "execution_count": 8,
   "id": "cdd269d8",
   "metadata": {
    "jupyter": {
     "source_hidden": true
    }
   },
   "outputs": [],
   "source": [
    "class Gf(Broker): \n",
    "    \n",
    "    def get_margin(self):\n",
    "        df=pd.read_excel(self.mPath, sheet_name='1',skiprows=13)\n",
    "        #df=df[df[\"Bloomberg Code\"].notna()]\n",
    "        df=df.loc[:,['Underlying BB Ticker','IA %']]\n",
    "        df.columns=['symbol','margin']\n",
    "        df['symbol']=df['symbol'].map(lambda x: x.replace(\" Equity\",\"\"))\n",
    "        df['margin']=df['margin']/-100        \n",
    "        self.margin=self.margin_summary(df)\n",
    "        return self.margin\n",
    "    \n",
    "    def get_financing(self):   \n",
    "        df=pd.read_excel(self.vPath, sheet_name='1',skiprows=13)\n",
    "        df=df.loc[:,['Underlying BB Ticker','Funding Benchmark','Funding Spread','Quantity','Client Direction']]\n",
    "        df.columns=['symbol','benchmark','spread','qty','side']\n",
    "        df['side']=df['side'].map({'Long':1,'Short':-1})\n",
    "        df['qty']=df['qty']*df['side']\n",
    "        df['symbol']=df['symbol'].map(lambda x: x.replace(\" Equity\",\"\"))\n",
    "        df['spread']=df['spread']/10000\n",
    "        df['benchmark']=df['benchmark'].map(lambda x: x.replace('USD.SOFR.1D','SOFRON').replace('HKD.HIBOR.1D','HIBORON') if isinstance(x,str) else x)\n",
    "        df['broker']=self.name\n",
    "        self.financing=df.loc[:,['symbol','broker','benchmark','spread','qty']] \n",
    "        return self.financing"
   ]
  },
  {
   "cell_type": "code",
   "execution_count": 9,
   "id": "f789f946",
   "metadata": {
    "jupyter": {
     "source_hidden": true
    }
   },
   "outputs": [],
   "source": [
    "def ht_symbol(ticker):\n",
    "    ticker=ticker.replace('.',' ').replace(\" SH\",' CH').replace(\"SZ\",'CH').replace(\" O\",' US').replace(\" N\",' US').replace(' Equity',\"\")\n",
    "    if \"HK\" in ticker:\n",
    "        ticker=ticker.lstrip(\"0\")\n",
    "    return ticker"
   ]
  },
  {
   "cell_type": "code",
   "execution_count": 10,
   "id": "65ac471d",
   "metadata": {
    "jupyter": {
     "source_hidden": true
    }
   },
   "outputs": [],
   "source": [
    "class Ht(Broker):\n",
    "    \n",
    "    def get_margin(self):\n",
    "        df=pd.read_excel(self.mPath, sheet_name='标的明细',skiprows=1)\n",
    "        #df=df[df[\"Bloomberg Code\"].notna()]\n",
    "        df=df[df['分红调整剩余数量']!=0]\n",
    "        df=df.loc[:,['标的代码','最低比例']]\n",
    "        df.columns=['symbol','margin']        \n",
    "        df['symbol']=df['symbol'].map(lambda x: x.replace(\" Equity\",\"\"))        \n",
    "        self.margin=self.margin_summary(df)\n",
    "        return self.margin\n",
    "        df['side']=df['side'].map({'Long':1,'Short':-1})\n",
    "        df['qty']=df['qty']*df['side']\n",
    "    def get_financing(self):   \n",
    "        df=pd.read_excel(self.vPath, sheet_name='标的明细',skiprows=1)\n",
    "        df=df.loc[:,['标的代码','参考浮动利率','利差','分红调整剩余数量','客户头寸方向']]\n",
    "        df.columns=['symbol','benchmark','spread','qty','side']\n",
    "        df=df[df['qty']!=0]  \n",
    "        df['side']=df['side'].map({'多头':1,'空头':-1})\n",
    "        df['qty']=df['qty']*df['side']        \n",
    "        df['symbol']=df['symbol'].map(ht_symbol)\n",
    "        df['benchmark']=df['benchmark'].map(lambda x: x.replace('SOFR.IR','SOFRON').replace('HIBOR1M.IR','HIBOR1M').replace('HIBORON.IR','HIBORON') if isinstance(x,str) else x)\n",
    "        df['broker']=\"Haitong\"\n",
    "        self.financing=df.loc[:,['symbol','broker','benchmark','spread','qty']] \n",
    "        return self.financing\n",
    "    "
   ]
  },
  {
   "cell_type": "code",
   "execution_count": 11,
   "id": "f89d0038",
   "metadata": {
    "jupyter": {
     "source_hidden": true
    }
   },
   "outputs": [],
   "source": [
    "class Huatai(Broker): \n",
    "    \n",
    "    def get_margin(self):\n",
    "        df=pd.read_excel(self.mPath, sheet_name='Position Details')\n",
    "        #df=df[df[\"Bloomberg Code\"].notna()]\n",
    "        df=df.loc[:,['Underlying','InitialMarginRatio']]\n",
    "        df.columns=['symbol','margin']\n",
    "        \n",
    "        self.margin=self.margin_summary(df)\n",
    "        return self.margin\n",
    "    \n",
    "    def get_financing(self):\n",
    "        df=pd.read_excel(self.mPath, sheet_name='Position Details')\n",
    "        #df=df[df[\\\"Bloomberg Code\\\"].notna()]\n",
    "        df=df.loc[:,['Underlying','RefBenchmark','Spread','Position']]\n",
    "        df.columns=['symbol','benchmark','spread','qty']\n",
    "        df['symbol']=df['symbol'].map(lambda x: x.replace(\" Equity\",\"\"))\n",
    "        df['spread']=df['spread']/10000\n",
    "        df['benchmark']=df['benchmark'].map(lambda x: x.replace('SOFR1D','SOFRON').replace('1M HIBOR','HIBOR1M').replace('HOISHKD','HIBORON') if isinstance(x,str) else x)\n",
    "        df['broker']=self.name\n",
    "        self.financing=df.loc[:,['symbol','broker','benchmark','spread','qty']] \n",
    "        return self.financing"
   ]
  },
  {
   "cell_type": "code",
   "execution_count": 12,
   "id": "88f152f2",
   "metadata": {
    "jupyter": {
     "source_hidden": true
    }
   },
   "outputs": [],
   "source": [
    "def exch_to_code(symbol):\n",
    "    exchDict={\n",
    "        \"TAI\":\"TT\",\n",
    "        \"HKE\":'HK',\n",
    "        \"SHG\":'C1',\n",
    "        'NAS':\"US\",\n",
    "        'NYS':\"US\",\n",
    "        \"ARC\":\"US\",\n",
    "        'ROCO':\"TT\",\n",
    "        'KRX':\"KS\",\n",
    "        'ASX':\"AU\",\n",
    "        'SGX':\"SP\",\n",
    "        'SHE':\"C2\",\n",
    "        'ZK':'CH'\n",
    "        \n",
    "    }\n",
    "    exch=symbol.split(\".\")[1]\n",
    "    exch_code=exchDict[exch]\n",
    "    symbol=symbol.replace(exch,exch_code).replace(\".\",\" \")\n",
    "    if \"HK\" in symbol:\n",
    "        symbol=symbol.lstrip(\"0\")\n",
    "    if \"KS\" in symbol:\n",
    "        symbol=symbol.zfill(9)\n",
    "    if \"C2\" in symbol:\n",
    "        symbol=symbol.zfill(9)\n",
    "    if '929 TT' in symbol:\n",
    "        symbol='00929 TT'\n",
    "    if 'BS6 SP' in symbol:\n",
    "        symbol='YZJSGD SP'\n",
    "    return symbol"
   ]
  },
  {
   "cell_type": "code",
   "execution_count": 13,
   "id": "ddc1abe2",
   "metadata": {
    "jupyter": {
     "source_hidden": true
    }
   },
   "outputs": [],
   "source": [
    "class Cimb(Broker):  \n",
    "    \n",
    "    def get_margin(self):\n",
    "        df=pd.read_csv(self.mPath)\n",
    "        df=df.loc[:,['SecurityID','InitialMargin%']]\n",
    "        df.columns=['symbol','margin']        \n",
    "        df['symbol']=df['symbol'].map(lambda x:exch_to_code(x))\n",
    "        df['margin']=df['margin'].map(lambda x: float(x.replace('%',\"\") if isinstance(x,str) else x*100))\n",
    "        df['margin']=df['margin']/100        \n",
    "        self.margin=self.margin_summary(df)\n",
    "        return self.margin\n",
    "    \n",
    "    def get_financing(self):\n",
    "        df=pd.read_csv(self.mPath)\n",
    "        #df=df[df[\\\"Bloomberg Code\\\"].notna()]\n",
    "        df=df.loc[:,['SecurityID','BenchmarkRate','MarkupRate','NumberOfShares Units','Long Short']]\n",
    "        df.columns=['symbol','benchmark','spread','qty','side']\n",
    "        df['side']=df['side'].map({'LONG':1,'SHORT':-1})\n",
    "        df['symbol']=df['symbol'].map(lambda x:exch_to_code(x))\n",
    "        df['spread']=df['spread']/100*df['side']\n",
    "        df['qty']=df['qty']*df['side']\n",
    "        #df['benchmark']=df['benchmark'].map(lambda x: x.replace('SOFR1D','SOFRON').replace('1M HIBOR','HIBOR1M').replace('HOISHKD','HIBORON') if isinstance(x,str) else x)\n",
    "        df['broker']=self.name\n",
    "        self.financing=df.loc[:,['symbol','broker','benchmark','spread','qty']] \n",
    "        return self.financing    "
   ]
  },
  {
   "cell_type": "code",
   "execution_count": 14,
   "id": "a64d96bc",
   "metadata": {
    "jupyter": {
     "source_hidden": true
    }
   },
   "outputs": [],
   "source": [
    "def mssg_exch_to_code(exch):\n",
    "    exchDict={\n",
    "        'SHH':'CH',\n",
    "        'HKG':'HK',\n",
    "        'HKE':'HK',\n",
    "        'SES':'SP',\n",
    "        'NSM':'US',\n",
    "        'PSE':'US',\n",
    "        \"TYO\":\"JP\",\n",
    "        'NYS':'US',\n",
    "        'TWO':'TT',\n",
    "        'TW':'TT',\n",
    "        'TAI':'TT',\n",
    "        'NMS':'US'\n",
    "    }\n",
    "    exch_code=exchDict[exch]\n",
    "    return exch_code\n",
    "\n",
    "def mssg_symbol(symbol):\n",
    "    if 'BS6' in symbol:\n",
    "        symbol='YZJSGD'\n",
    "    return symbol"
   ]
  },
  {
   "cell_type": "code",
   "execution_count": 15,
   "id": "615177d7",
   "metadata": {
    "jupyter": {
     "source_hidden": true
    }
   },
   "outputs": [],
   "source": [
    "def ric_to_code(symbol):\n",
    "    exchDict={\n",
    "        \"HK\":'HK',\n",
    "        \"SS\":'C1',\n",
    "        \"SH\":'CH',\n",
    "        'SZ':'C2',\n",
    "        'ZK':'CH',\n",
    "        'OQ':\"US\",\n",
    "        'N':\"US\",\n",
    "        'P':\"US\",\n",
    "        \"T\":\"JP\",\n",
    "        'SI':'SP',\n",
    "        'TWO':'TT',\n",
    "        'TW':'TT',\n",
    "        'TAI':'TT'\n",
    "    }\n",
    "    exch=symbol.split(\".\")[1]\n",
    "    exch_code=exchDict[exch]\n",
    "    symbol=symbol.split(\".\")[0]+\" \"+symbol.split(\".\")[1].replace(exch,exch_code)\n",
    "    if \"HK\" in symbol:\n",
    "        symbol=symbol.lstrip(\"0\")\n",
    "    if 'YAZG SP' in symbol:\n",
    "        symbol='YZJSGD SP'\n",
    "    return symbol"
   ]
  },
  {
   "cell_type": "code",
   "execution_count": 16,
   "id": "572c8f60",
   "metadata": {
    "jupyter": {
     "source_hidden": true
    }
   },
   "outputs": [],
   "source": [
    "class Mssg(Broker):\n",
    "    \n",
    "    def get_margin(self):\n",
    "        df=pd.read_csv(self.mPath)\n",
    "        #df['Exchange']=df['Exchange'].map(lambda x:mssg_exch_to_code(x))\n",
    "        #df['Security']=df['Security'].map(lambda x:mssg_symbol(x))\n",
    "        df['symbol']=df['RIC'].map(lambda x: ric_to_code(x))\n",
    "        df=df.loc[:,['symbol','Margin_Perc']]\n",
    "        df.columns=['symbol','margin']\n",
    "        df=df[df['margin'].notna()]\n",
    "        df['margin']=df['margin']/-100        \n",
    "        self.margin=self.margin_summary(df)\n",
    "        return self.margin\n",
    "    \n",
    "    def get_financing(self):\n",
    "        df=pd.read_csv(self.vPath)\n",
    "        df['Exchange']=df['Exchange'].map(lambda x:mssg_exch_to_code(x))\n",
    "        df['Security']=df['Security_Code'].map(lambda x:mssg_symbol(x))\n",
    "        #df['symbol']=df['RIC'].map(lambda x: ric_to_code(x))\n",
    "        df['Security']=df['Security']+\" \"+df['Exchange']\n",
    "        df=df.loc[:,['Security','CurrCode','EffectiveRate','TradeVolumn']]\n",
    "        df.columns=['symbol','benchmark','spread','qty']\n",
    "        df['spread']=df['spread']/-100-0.005\n",
    "        df['broker']=self.name\n",
    "        self.financing=df.loc[:,['symbol','broker','benchmark','spread','qty']] \n",
    "        return self.financing      "
   ]
  },
  {
   "cell_type": "code",
   "execution_count": 17,
   "id": "62ea0096-3901-4d1f-848d-7472744cdb9b",
   "metadata": {
    "jupyter": {
     "source_hidden": true
    }
   },
   "outputs": [],
   "source": [
    "class Jefs(Broker):\n",
    "\n",
    "    def get_margin(self):\n",
    "        df=pd.read_excel(self.mPath)\n",
    "        df['symbol']=df['SecondaryTradeRef'].map(lambda x:x.replace(\"/\",\" \"))\n",
    "        df['margin']=df['LockUp']/df['Notional1']\n",
    "        df=df.loc[:,['symbol','margin']]\n",
    "        #df.columns=['symbol','margin']\n",
    "        df=df[df['margin'].notna()]\n",
    "        #df['margin']=df['margin']/-100        \n",
    "        self.margin=self.margin_summary(df)\n",
    "        return self.margin\n",
    "    \n",
    "    def get_financing(self):\n",
    "        df=pd.read_csv(self.vPath)\n",
    "        df['symbol']=df['Symbol'].map(lambda x:x.replace(\"/\",\" \"))\n",
    "        df=df.loc[:,['symbol','Financing Benchmark','Spread','Quantity']]\n",
    "        df.columns=['symbol','benchmark','spread','qty']\n",
    "        df['spread']=df['spread']/100\n",
    "        df['broker']=self.name\n",
    "        self.financing=df.loc[:,['symbol','broker','benchmark','spread','qty']] \n",
    "        return self.financing      "
   ]
  },
  {
   "cell_type": "code",
   "execution_count": 18,
   "id": "6863141d-5b38-4cdb-bbdf-6ec8829c4cd4",
   "metadata": {
    "jupyter": {
     "source_hidden": true
    }
   },
   "outputs": [],
   "source": [
    "sedol_dict={\n",
    "    \"6803247\":\"81 HK\",\n",
    "    \"MATX\":\"MATX US\"\n",
    "}"
   ]
  },
  {
   "cell_type": "code",
   "execution_count": 19,
   "id": "53bb1392-0b55-41b0-9083-2c7e157d18b5",
   "metadata": {
    "jupyter": {
     "source_hidden": true
    }
   },
   "outputs": [],
   "source": [
    "class Jefc(Broker):\n",
    "\n",
    "    def get_margin(self):\n",
    "        with pdfplumber.open(self.mPath) as pdf:\n",
    "            textline2=['']\n",
    "            for page in pdf.pages:\n",
    "                page02 = page.extract_text().split(\"\\n\")[4:-5] #指定页码\n",
    "                textline2 = textline2+page02\n",
    "        textline2\n",
    "        index01=textline2.index('Single Position')\n",
    "        \n",
    "        for i in range(index01,len(textline2)):\n",
    "            if 'Total Single Position' in textline2[i]:\n",
    "                index02=i\n",
    "                break\n",
    "        entryList=[]\n",
    "        for j in range(index01,index02):\n",
    "            if 'FX Rate' in textline2[j]:\n",
    "                entryList.append(textline2[j+1])\n",
    "        entryform2=[]\n",
    "        for entry in entryList:\n",
    "            entryitems=entry.split(' ')\n",
    "            comb=['a']\n",
    "            comb[0]=entryitems[0]\n",
    "            comb=comb+entryitems[-2:-1]\n",
    "            entryform2.append(comb)\n",
    "        columns2=['symbol','margin']\n",
    "        df=pd.DataFrame(entryform2, columns=columns2)\n",
    "        df['margin']=df['margin'].astype(float)/100\n",
    "        df['symbol']=df['symbol'].map(sedol_dict)\n",
    "        self.margin=self.margin_summary(df)\n",
    "        \n",
    "        return self.margin"
   ]
  },
  {
   "cell_type": "code",
   "execution_count": 20,
   "id": "4c486c06",
   "metadata": {
    "jupyter": {
     "source_hidden": true
    }
   },
   "outputs": [],
   "source": [
    "MACQ=Macq('Macquarie','PsPositionReport')\n",
    "CLSA=Clsa('CLSA','MGN-SeahawkChinaDyn-721088','VAL-SeahawkChinaDyn-721904_721906')\n",
    "CICC=Cicc('CICC','Seahawk CDF_ValuationReport')\n",
    "GF=Gf('GF','CRIC_SEAHAWK')\n",
    "HT=Ht('HT','Client_ValuationReportNew_2')\n",
    "HUATAI=Huatai('Huatai','Valuation Report')\n",
    "CIMB=Cimb('CIMB','dailyopenpositions')\n",
    "MSSG=Mssg('MSSG','LP0139007A_POSITION','LP0139007A_EXTRABORROWCOST')\n",
    "JEFS=Jefs('Jefferies','Exposure_Trades','P1741_SwapFinancingSummary')\n",
    "JEFC=Jefc('Jefferies','Portfolio-Margin-Detail')"
   ]
  },
  {
   "cell_type": "code",
   "execution_count": 21,
   "id": "9bedfea7",
   "metadata": {
    "jupyter": {
     "source_hidden": true
    }
   },
   "outputs": [],
   "source": [
    "brokerList=[MACQ,CLSA,CICC,GF,HT,HUATAI,CIMB,MSSG,JEFS,JEFC]"
   ]
  },
  {
   "cell_type": "code",
   "execution_count": 22,
   "id": "2a3ff155",
   "metadata": {
    "jupyter": {
     "source_hidden": true
    }
   },
   "outputs": [
    {
     "name": "stderr",
     "output_type": "stream",
     "text": [
      "C:\\Users\\Ning\\anaconda3\\Lib\\site-packages\\openpyxl\\styles\\stylesheet.py:226: UserWarning: Workbook contains no default style, apply openpyxl's default\n",
      "  warn(\"Workbook contains no default style, apply openpyxl's default\")\n",
      "C:\\Users\\Ning\\anaconda3\\Lib\\site-packages\\openpyxl\\worksheet\\_read_only.py:79: UserWarning: Data Validation extension is not supported and will be removed\n",
      "  for idx, row in parser.parse():\n"
     ]
    }
   ],
   "source": [
    "marginSummary=pd.DataFrame(columns=['symbol'])\n",
    "for broker in brokerList:\n",
    "    brokerMargin=broker.get_margin()\n",
    "    marginSummary=pd.merge(marginSummary,brokerMargin,on='symbol',how='outer')\n",
    "marginSummary.sort_values(by='symbol', inplace=True)\n",
    "#marginSummary"
   ]
  },
  {
   "cell_type": "code",
   "execution_count": 23,
   "id": "f69d5373",
   "metadata": {
    "jupyter": {
     "source_hidden": true
    }
   },
   "outputs": [
    {
     "name": "stderr",
     "output_type": "stream",
     "text": [
      "C:\\Users\\Ning\\anaconda3\\Lib\\site-packages\\openpyxl\\styles\\stylesheet.py:226: UserWarning: Workbook contains no default style, apply openpyxl's default\n",
      "  warn(\"Workbook contains no default style, apply openpyxl's default\")\n",
      "C:\\Users\\Ning\\anaconda3\\Lib\\site-packages\\openpyxl\\worksheet\\_read_only.py:79: UserWarning: Data Validation extension is not supported and will be removed\n",
      "  for idx, row in parser.parse():\n"
     ]
    }
   ],
   "source": [
    "financingSummary=pd.DataFrame(columns=['symbol'])\n",
    "for broker in brokerList:\n",
    "    brokerFinancing=broker.financing_summary(broker.get_financing())\n",
    "    financingSummary=pd.merge(financingSummary,brokerFinancing,on='symbol',how='outer')\n",
    "financingSummary.sort_values(by='symbol', inplace=True)\n",
    "#financingSummary"
   ]
  },
  {
   "cell_type": "code",
   "execution_count": 24,
   "id": "e44eeacc",
   "metadata": {
    "jupyter": {
     "source_hidden": true
    }
   },
   "outputs": [
    {
     "name": "stderr",
     "output_type": "stream",
     "text": [
      "C:\\Users\\Ning\\anaconda3\\Lib\\site-packages\\openpyxl\\styles\\stylesheet.py:226: UserWarning: Workbook contains no default style, apply openpyxl's default\n",
      "  warn(\"Workbook contains no default style, apply openpyxl's default\")\n",
      "C:\\Users\\Ning\\anaconda3\\Lib\\site-packages\\openpyxl\\worksheet\\_read_only.py:79: UserWarning: Data Validation extension is not supported and will be removed\n",
      "  for idx, row in parser.parse():\n"
     ]
    }
   ],
   "source": [
    "financingDetails=pd.DataFrame(columns=['symbol','broker','benchmark','spread'])\n",
    "for broker in brokerList:\n",
    "    brokerFinancingDetails=broker.get_financing()\n",
    "    financingDetails=pd.concat([financingDetails,brokerFinancingDetails])\n",
    "financingDetails.sort_values(by=['symbol','broker'], inplace=True)\n",
    "financingDetails=financingDetails[financingDetails['qty']!=0]\n",
    "#financingDetails"
   ]
  },
  {
   "cell_type": "code",
   "execution_count": 25,
   "id": "9c82f889",
   "metadata": {
    "jupyter": {
     "source_hidden": true
    }
   },
   "outputs": [
    {
     "name": "stderr",
     "output_type": "stream",
     "text": [
      "C:\\Users\\Ning\\AppData\\Local\\Temp\\ipykernel_3104\\2841391150.py:6: FutureWarning: save is not part of the public API, usage can give unexpected results and will be removed in a future version\n",
      "  writer.save()\n"
     ]
    }
   ],
   "source": [
    "summaryPath=\"margin_financing_summary_{}.xlsx\".format(datetime.now().strftime(\"%Y%m%d\"))\n",
    "writer=pd.ExcelWriter(summaryPath)\n",
    "marginSummary.to_excel(writer, sheet_name='margin',index=False)\n",
    "financingSummary.to_excel(writer, sheet_name='financingSummary',index=False)\n",
    "financingDetails.to_excel(writer, sheet_name='financingDetails',index=False)\n",
    "writer.save()"
   ]
  },
  {
   "cell_type": "code",
   "execution_count": 26,
   "id": "a5d9295e",
   "metadata": {
    "jupyter": {
     "source_hidden": true
    }
   },
   "outputs": [
    {
     "data": {
      "text/plain": [
       "0"
      ]
     },
     "execution_count": 26,
     "metadata": {},
     "output_type": "execute_result"
    }
   ],
   "source": [
    "os.system(f'start excel \\\"{summaryPath}\\\"')"
   ]
  }
 ],
 "metadata": {
  "kernelspec": {
   "display_name": "Python [conda env:base] *",
   "language": "python",
   "name": "conda-base-py"
  },
  "language_info": {
   "codemirror_mode": {
    "name": "ipython",
    "version": 3
   },
   "file_extension": ".py",
   "mimetype": "text/x-python",
   "name": "python",
   "nbconvert_exporter": "python",
   "pygments_lexer": "ipython3",
   "version": "3.11.5"
  }
 },
 "nbformat": 4,
 "nbformat_minor": 5
}
