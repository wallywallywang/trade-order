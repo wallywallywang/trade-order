{
 "cells": [
  {
   "cell_type": "code",
   "execution_count": null,
   "id": "1969cd40",
   "metadata": {
    "editable": true,
    "slideshow": {
     "slide_type": ""
    },
    "tags": []
   },
   "outputs": [],
   "source": [
    "import pandas as pd\n",
    "from datetime import date\n",
    "import os"
   ]
  },
  {
   "cell_type": "code",
   "execution_count": null,
   "id": "248b2cf8",
   "metadata": {},
   "outputs": [],
   "source": [
    "tDay=date.today()"
   ]
  },
  {
   "cell_type": "code",
   "execution_count": null,
   "id": "d8e8102c",
   "metadata": {},
   "outputs": [],
   "source": [
    "quote='quote borrow: 1709-HK / 2598-HK / 1783-HK / 2522-HK / 2473-HK / 2477-HK / 2490-HK / 2495-HK / 2582-HK / 9636-HK / 7226-HK / 7552-HK / 600418-CH / 600104-CH'"
   ]
  },
  {
   "cell_type": "code",
   "execution_count": null,
   "id": "e0f2981b",
   "metadata": {},
   "outputs": [],
   "source": [
    "text='''\n",
    "Haitong HT cover 2,354 shares 688256-C1 limit 780.96, POV 1% passive \n",
    "Huatai HT short 126K shares 2477-HK limit 23.45, POV 12% passive \n",
    "Huatai HT cover 397K shares 6099-HK limit 14.6, POV 5% passive near-touch only \n",
    "Huatai SELL 192K shares 1548-HK limit 13.06, POV 10% passive\n",
    "CLSA short 414K shares 1280-HK limit 2.42, POV 10% passive \n",
    "CLSA short 187.5K shares 2473-HK limit 6.3, POV 8% passive \n",
    "CLSA BUY 3mn shares 2669-HK limit 4.8, POV 6% near-touch\n",
    "CLSA BUY 300K shares 6049-HK limit 29.45, POV 6% near-touch\n",
    "CLSA BUY 1mn shares 3990-HK limit 3.0, POV 8% near-touch\n",
    "CLSA BUY 300K shares 1755-HK limit 3.0, POV 8% near-touch\n",
    "CLSA BUY 2mn shares 1516-HK limit 1.68, POV 5% near-touch\n",
    "CICC cover 1mn shares 2202-HK limit 5.78, POV 5% passive \n",
    "JEFC BUY 118.6K shares YZJSGD-SP limit 2.9, POV 5% passive \n",
    "JEFS BUY 15,391 shares 009540-KS limit 212K, POV 5% passive \n",
    "CLSA cover 1K shares 1308-HK limit 17.5, POV 8% near-touch\n",
    "JEFS BUY 100K shares 2156-HK limit 2.5, POV 8% passive \n",
    "Maybank short 5mn shares 1114-HK limit 4.18, POV 8% passive \n",
    "Maybank BUY 300K shares 1179-HK limit 27.3, POV 6% passive \n",
    "Maybank BUY 840K shares 9956-HK limit 7.1, POV 10% passive \n",
    "Maybank HT cover 1mn shares 601288-CH limit 5.01, POV 10% passive \n",
    "'''"
   ]
  },
  {
   "cell_type": "code",
   "execution_count": null,
   "id": "a648278c",
   "metadata": {},
   "outputs": [],
   "source": [
    "text2=text.replace(\"  \",\" \").replace(\" shares\",\"\").replace(\" limit\",\"\").replace(\",\",\"\").replace(\"CLSA Desk\",\"CLSA_HT\").replace(\"DESK POV\",\"DESK\").replace(\"Desk POV\",\"DESK\").replace(\" HT\",\"_HT\").replace(\" (low-touch)\",\"\").replace(\"~\",\"\").replace('passive ','passive').replace('MACQ','MEEX').replace('NEO','POV').replace('below ','1-').replace('near touch','neartouch').replace('near-touch ','NearTouch').replace('near-touch','NearTouch').replace('Low','5-10%').replace('Mid','10-20%').replace('High','15-30%').replace('Maybank','MKEA').replace('Inline','POV')\n",
    "tradelist=[trades.rstrip().split(\" \") for trades in text2.split(\"\\n\") if trades != \"\"]\n",
    "#tradelist"
   ]
  },
  {
   "cell_type": "code",
   "execution_count": null,
   "id": "38a39a5a",
   "metadata": {},
   "outputs": [],
   "source": [
    "cimblist=[ \" \".join(x[1:]) for x in tradelist if \"CIMB\" in x]\n",
    "for order in cimblist:\n",
    "    print(order)"
   ]
  },
  {
   "cell_type": "code",
   "execution_count": null,
   "id": "0889d775",
   "metadata": {},
   "outputs": [],
   "source": [
    "header=['Broker','Side','Quantity','Ticker','Price','Strategy','Vol(%)','Style']"
   ]
  },
  {
   "cell_type": "code",
   "execution_count": null,
   "id": "4cb34cb4",
   "metadata": {},
   "outputs": [],
   "source": [
    "def qty_conv(q):\n",
    "    if q[-2:].lower() in ['mn','mm'] :\n",
    "        qty=int(float(q[:-2])*1000000)\n",
    "    elif q[-1].lower()=='k':\n",
    "        qty=int(float(q[:-1])*1000)\n",
    "    else:\n",
    "        qty=int(q)\n",
    "    \n",
    "    return qty\n",
    "def price_conv(p):\n",
    "    if str(p)[-1].lower()=='k':\n",
    "        p=float(p[:-1])*1000\n",
    "    return p"
   ]
  },
  {
   "cell_type": "code",
   "execution_count": null,
   "id": "610e2446",
   "metadata": {},
   "outputs": [],
   "source": [
    "tradeframe=pd.DataFrame(tradelist,columns=header)\n",
    "#tradeframe=pd.DataFrame(tradelist)\n",
    "#tradeframe"
   ]
  },
  {
   "cell_type": "code",
   "execution_count": null,
   "id": "26011ed3",
   "metadata": {},
   "outputs": [],
   "source": [
    "tradeframe['Ticker']=tradeframe['Ticker'].map(lambda x: x.replace(\"-\",\" \")+\" EQUITY\")\n",
    "tradeframe['Quantity']=tradeframe['Quantity'].map(qty_conv)\n",
    "tradeframe['Price']=tradeframe['Price'].map(price_conv)\n",
    "tradeframe['Vol(%)']=tradeframe['Vol(%)'].map(lambda x: x.replace(\"%\",\"\") if x is not None else x)\n",
    "tradeframe['Side']=tradeframe['Side'].map(lambda x:x.upper())\n",
    "tradeframe['Side']=tradeframe['Side'].map({'SHORT':'SHRT','COVER':'COVR',\"BUY\":\"BUY\",\"SELL\":'SELL'})\n",
    "#tradeframe"
   ]
  },
  {
   "cell_type": "code",
   "execution_count": null,
   "id": "5c8b2650",
   "metadata": {},
   "outputs": [],
   "source": [
    "brokers=['CLSA','CLSA_HT','Huatai','Huatai_HT','CICC_HT','CICC','Haitong','Haitong_HT','MEEX','MKEA','JEFS','JEFC']"
   ]
  },
  {
   "cell_type": "code",
   "execution_count": null,
   "id": "8de33179",
   "metadata": {},
   "outputs": [],
   "source": [
    "tradeframe2=tradeframe[tradeframe['Broker'].isin(brokers)]\n",
    "#tradeframe2\n",
    "tradeframe2['Style']=tradeframe2.apply(lambda row: row['Style'].replace('passive','neartouch') if row['Broker']=='MEEX' and row['Style']=='passive' else row['Style'], axis=1)\n",
    "tradeframe2"
   ]
  },
  {
   "cell_type": "code",
   "execution_count": null,
   "id": "0793bf8c",
   "metadata": {},
   "outputs": [],
   "source": [
    "tradeframe2.to_csv('trades_{}.csv'.format(tDay.strftime(\"%Y%m%d\")),index=False)"
   ]
  },
  {
   "cell_type": "code",
   "execution_count": null,
   "id": "8f296e96",
   "metadata": {},
   "outputs": [],
   "source": [
    "quoteList=quote.replace(\"Quote borrow: \",\"\").replace(\"quote borrow: \",\"\").replace(\":\",\"\").replace(\"Haitong\",\"HT\").replace(\"Guangfa\",\"GF\").split(\"/ \")\n",
    "#quoteList"
   ]
  },
  {
   "cell_type": "code",
   "execution_count": null,
   "id": "ab64396a",
   "metadata": {},
   "outputs": [],
   "source": [
    "def quote(broker):    \n",
    "    List=[x for x in quoteList if \"(\" not in x]+[x.split()[0] for x in quoteList if broker in x]\n",
    "    String=broker+\":\\nHi team, could you quote borrow on \"\n",
    "    if broker=='Citi'or broker=='JEFF'or broker=='Tiger':\n",
    "        List=[x for x in List if 'HK' in x]\n",
    "    for x in List:\n",
    "        String=String+x.strip()+\", \"\n",
    "    String=String+\"tks\\n\"\n",
    "    String\n",
    "    return String"
   ]
  },
  {
   "cell_type": "code",
   "execution_count": null,
   "id": "59e16a83",
   "metadata": {},
   "outputs": [],
   "source": [
    "brokerList=['GF','HT','CLSA','CICC','Huatai','MACQ','MB','Citi','JEFF','Tiger']#'CICC',\n",
    "for broker in brokerList:\n",
    "    print(quote(broker))"
   ]
  },
  {
   "cell_type": "code",
   "execution_count": null,
   "id": "43014dc2",
   "metadata": {},
   "outputs": [],
   "source": [
    "cimbList=[x for x in quoteList if \"(\" not in x]+[x.split()[0] for x in quoteList if \"CIMB\" in x]\n",
    "shares=[1000000]*len(cimbList)\n",
    "df=pd.DataFrame(shares,cimbList,columns=['qty'])\n",
    "#csv_path='borrow.csv'\n",
    "#df.to_csv('borrow.csv')\n",
    "#os.system(f'start excel \"{csv_path}\"') \n",
    "df"
   ]
  },
  {
   "cell_type": "code",
   "execution_count": null,
   "id": "40886597",
   "metadata": {},
   "outputs": [],
   "source": [
    "mbList=[x for x in quoteList if \"(\" not in x]+[x.split()[0] for x in quoteList if \"MB\" in x]\n",
    "shares=[1000000]*len(mbList)\n",
    "df=pd.DataFrame(shares,mbList,columns=['qty'])\n",
    "#csv_path='borrow.csv'\n",
    "#df.to_csv('borrow.csv')\n",
    "#os.system(f'start excel \"{csv_path}\"') \n",
    "df"
   ]
  },
  {
   "cell_type": "code",
   "execution_count": null,
   "id": "d9ccd5f5",
   "metadata": {},
   "outputs": [],
   "source": [
    "macqList=[x for x in quoteList if \"(\" not in x]+[x.split()[0] for x in quoteList if 'MACQ' in x]\n",
    "shares=[1000000]*len(macqList)\n",
    "macq=pd.DataFrame(shares,macqList,columns=['quantity'])\n",
    "macq=macq.reset_index()\n",
    "macq.columns=['ticker','quantity']\n",
    "def symbol(ticker):\n",
    "    if ticker[-2:]==\"CH\":\n",
    "        if ticker[0]==\"6\":\n",
    "            ticker=ticker.replace(\"CH\",\"SH\")\n",
    "        else:\n",
    "            ticker=ticker.replace(\"CH\",\"ZK\")\n",
    "    if ticker[-2:]==\"HK\":\n",
    "        ticker=ticker.zfill(7)\n",
    "    ticker=ticker.replace(\"-\",\".\")\n",
    "    return ticker\n",
    "macq['ticker']=macq['ticker'].map(lambda x: x.replace(\" \",\"\"))\n",
    "macq['ticker']=macq['ticker'].map(lambda x: symbol(x))\n",
    "macq.loc[macq.shape[0]]=[\"1211.HK\",500000]\n",
    "macq.loc[macq.shape[0]]=[\"0300.HK\",500000]\n",
    "macq.loc[macq.shape[0]]=[\"0921.HK\",500000]\n",
    "csv_path='macqborrow.csv'\n",
    "macq.to_csv('macqborrow.csv',index=False)\n",
    "#os.system(f'start excel \"{csv_path}\"') \n",
    "macq"
   ]
  }
 ],
 "metadata": {
  "kernelspec": {
   "display_name": "Python [conda env:base] *",
   "language": "python",
   "name": "conda-base-py"
  },
  "language_info": {
   "codemirror_mode": {
    "name": "ipython",
    "version": 3
   },
   "file_extension": ".py",
   "mimetype": "text/x-python",
   "name": "python",
   "nbconvert_exporter": "python",
   "pygments_lexer": "ipython3",
   "version": "3.11.5"
  }
 },
 "nbformat": 4,
 "nbformat_minor": 5
}
