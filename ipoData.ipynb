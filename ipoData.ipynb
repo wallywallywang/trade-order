{
 "cells": [
  {
   "cell_type": "code",
   "execution_count": 1,
   "id": "2e3817b6",
   "metadata": {},
   "outputs": [],
   "source": [
    "import re"
   ]
  },
  {
   "cell_type": "code",
   "execution_count": 2,
   "id": "c3662048",
   "metadata": {
    "editable": true,
    "slideshow": {
     "slide_type": ""
    },
    "tags": []
   },
   "outputs": [],
   "source": [
    "text='''\n",
    "古茗(01364)今日起招股，招股詳情如下: 發售股數：1.58612億股，其中1.427508億股(90%)為國際配售；1586.12萬股(10%)為公開認購，另有15%超額配股權 發行價：8.68元至9.94元 集資規模：13.768億至15.766億元 集資淨額：13.56億元(以中間價9.31元計算) 集資用途： - 約25%將用於擴充集團的信息技術團隊及繼續提升業務管理和門店運營的數字化； - 約25%將用於加強集團的供應鏈能力和提升供應鏈管理效率； - 約20%將用於加強品牌建設和與消費者聯繫以及採取多元化方式建立品牌形象及提高消費者認知度； - 約10%將用於在集團持續推行地域加密策略的同時新招聘員工負責加盟商管理，加強集團對加盟商的支持，並進一步建立緊密的加盟商團體； - 約10%將用於聘用產品研發方面的專家及提升集團的產品研發能力；及 - 約10%預計將用作營運資金及其他一般企業用途。 回撥機制： -超購15倍或以上，但少於50倍，公開發售回撥至30%； -超購50倍或以上，但少於100倍，公開發售回撥至40%； -超購100倍或以上，公開發售回撥至50%。 基石投資者* 認購金額(百萬美元) (1) 騰訊(00700)旗下Huang River Investment Limited 25.0 (2) GM Charm Yield (BVI) Limited 15.0 (3) 私募股權公司LVC 15.0 (4) Long-Z Fund I, LP 8.0 (5) Duckling Fund, L.P. 8.0 總計 71.0 *有個月禁售期 每手股數：400股 入場費：4016.1元 公開發售日期：2025年2月4日至2月7日中午12時 定價日期：2025年2月10日 上市日期：2025年2月12日 保薦人：高盛、瑞銀集團\n",
    "'''"
   ]
  },
  {
   "cell_type": "code",
   "execution_count": 3,
   "id": "a4b6fbda",
   "metadata": {},
   "outputs": [],
   "source": [
    "pattern=r'(.*).日起招股.*發.價：(.*) 集資規模：(.*)集資淨額.*每手股數：(.*)股 入場費：(.*) 公開發售日期：(.*) 定價日.* 上市日期：(.*)保薦人：(.*)'#集資總額.* "
   ]
  },
  {
   "cell_type": "code",
   "execution_count": 4,
   "id": "e1bca9ed",
   "metadata": {},
   "outputs": [],
   "source": [
    "regex = re.compile(pattern, flags=re.IGNORECASE)"
   ]
  },
  {
   "cell_type": "code",
   "execution_count": 5,
   "id": "88f1a237",
   "metadata": {
    "scrolled": true
   },
   "outputs": [
    {
     "name": "stdout",
     "output_type": "stream",
     "text": [
      "古茗(01364)申购?倍\n",
      "招股价：8.68元至9.94元\n",
      "集资规模：13.768億至15.766億元 \n",
      "每手400股，入场费4016.1元 \n",
      "发售日期：2025年2月4日至2月7日中午12時\n",
      "上市日期：2025年2月12日 \n",
      "保荐人：高盛、瑞銀集團\n",
      "(Max ? shares, ? HKD)\n"
     ]
    }
   ],
   "source": [
    "print(regex.sub(r'\\1申购?倍\\n招股价：\\2\\n集资规模：\\3\\n每手\\4股，入场费\\5 \\n发售日期：\\6\\n上市日期：\\7\\n保荐人：\\8\\n(Max ? shares, ? HKD)',text))"
   ]
  }
 ],
 "metadata": {
  "kernelspec": {
   "display_name": "Python [conda env:base] *",
   "language": "python",
   "name": "conda-base-py"
  },
  "language_info": {
   "codemirror_mode": {
    "name": "ipython",
    "version": 3
   },
   "file_extension": ".py",
   "mimetype": "text/x-python",
   "name": "python",
   "nbconvert_exporter": "python",
   "pygments_lexer": "ipython3",
   "version": "3.11.5"
  }
 },
 "nbformat": 4,
 "nbformat_minor": 5
}
